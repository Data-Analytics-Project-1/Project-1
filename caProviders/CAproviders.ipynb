{
 "cells": [
  {
   "cell_type": "code",
   "execution_count": 9,
   "metadata": {},
   "outputs": [],
   "source": [
    "\n",
    "import csv\n",
    "import pandas as pd\n",
    "import matplotlib.pyplot as plt"
   ]
  },
  {
   "cell_type": "code",
   "execution_count": 10,
   "metadata": {},
   "outputs": [
    {
     "data": {
      "text/html": [
       "<div>\n",
       "<style scoped>\n",
       "    .dataframe tbody tr th:only-of-type {\n",
       "        vertical-align: middle;\n",
       "    }\n",
       "\n",
       "    .dataframe tbody tr th {\n",
       "        vertical-align: top;\n",
       "    }\n",
       "\n",
       "    .dataframe thead th {\n",
       "        text-align: right;\n",
       "    }\n",
       "</style>\n",
       "<table border=\"1\" class=\"dataframe\">\n",
       "  <thead>\n",
       "    <tr style=\"text-align: right;\">\n",
       "      <th></th>\n",
       "      <th>X</th>\n",
       "      <th>Y</th>\n",
       "      <th>Provider_Number</th>\n",
       "      <th>NPI_Provider_Number</th>\n",
       "      <th>Owner_Number</th>\n",
       "      <th>Service_Location_Number</th>\n",
       "      <th>Provider_Legal_Name</th>\n",
       "      <th>Enrollment_Status_Effective_Dat</th>\n",
       "      <th>Provider_Type_Code</th>\n",
       "      <th>Provider_Type_Code_Desc</th>\n",
       "      <th>...</th>\n",
       "      <th>Provider_Address_Line_2</th>\n",
       "      <th>Provider_Address_City</th>\n",
       "      <th>Provider_Address_State</th>\n",
       "      <th>Provider_Address_Zip</th>\n",
       "      <th>Provider_Address_Latitude</th>\n",
       "      <th>Provider_Address_Longitude</th>\n",
       "      <th>MSSA_ID</th>\n",
       "      <th>Tract_ID</th>\n",
       "      <th>File_</th>\n",
       "      <th>ObjectId</th>\n",
       "    </tr>\n",
       "  </thead>\n",
       "  <tbody>\n",
       "  </tbody>\n",
       "</table>\n",
       "<p>0 rows × 29 columns</p>\n",
       "</div>"
      ],
      "text/plain": [
       "Empty DataFrame\n",
       "Columns: [X, Y, Provider_Number, NPI_Provider_Number, Owner_Number, Service_Location_Number, Provider_Legal_Name, Enrollment_Status_Effective_Dat, Provider_Type_Code, Provider_Type_Code_Desc, Provider_License_Number, Provider_Specialty_Code, Provider_Specialty_Code_Desc, Out_Of_State_Ind, Out_Of_State_Desc, Provider_Address_County_Code, Provider_Address_County_Code_De, Provider_Address_Attention_Line, Provider_Address_Line_1, Provider_Address_Line_2, Provider_Address_City, Provider_Address_State, Provider_Address_Zip, Provider_Address_Latitude, Provider_Address_Longitude, MSSA_ID, Tract_ID, File_, ObjectId]\n",
       "Index: []\n",
       "\n",
       "[0 rows x 29 columns]"
      ]
     },
     "execution_count": 10,
     "metadata": {},
     "output_type": "execute_result"
    }
   ],
   "source": [
    "caproviderdata = pd.read_csv(\"Enrolled_Medi-Cal_Fee_For_Service_Provider_File.csv\", low_memory=False)\n",
    "caprovider_df = pd.DataFrame(caproviderdata)\n",
    "caprovider_df.dropna(inplace=True)\n",
    "caprovider_df.reset_index(drop=True, inplace=True) \n",
    "\n",
    "#YOU GOT THIS WARNING, SO I LEFT THIS CONVERSION (AFTER DROPPING NULLS I FOUND WHAT'S LEFT IS JUST NUMERIC, NO MORE ALPHA):\n",
    "#C:\\Users\\Kdw86\\anaconda3\\lib\\site-packages\\IPython\\core\\interactiveshell.py:3146: DtypeWarning: Columns (2) have mixed types.\n",
    "#Specify dtype option on import or set low_memory=False.\n",
    "# has_raised = await self.run_ast_nodes(code_ast.body, cell_name,\n",
    "#caprovider_df['Provider_Number'] = caprovider_df['Provider_Number'].astype('int64')\n",
    "\n",
    "for i, row in caprovider_df.iterrows():\n",
    "    try:\n",
    "        row['Provider_Number'] = int(row['Provider_Number'])\n",
    "    except:\n",
    "        caprovider_df.drop[i, :]\n",
    "\n",
    "#len(caprovider_df['Provider_Number'])        \n",
    "caprovider_df.head()"
   ]
  },
  {
   "cell_type": "code",
   "execution_count": null,
   "metadata": {},
   "outputs": [],
   "source": []
  }
 ],
 "metadata": {
  "kernelspec": {
   "display_name": "Python 3",
   "language": "python",
   "name": "python3"
  },
  "language_info": {
   "codemirror_mode": {
    "name": "ipython",
    "version": 3
   },
   "file_extension": ".py",
   "mimetype": "text/x-python",
   "name": "python",
   "nbconvert_exporter": "python",
   "pygments_lexer": "ipython3",
   "version": "3.8.5"
  }
 },
 "nbformat": 4,
 "nbformat_minor": 4
}
