{
 "cells": [
  {
   "cell_type": "markdown",
   "metadata": {
    "pycharm": {
     "name": "#%% md\n"
    }
   },
   "source": [
    "# PROJECT 1 PROGRESS NOTES: Lisa, Keely, Nathan\n",
    "### a running list of data sharing is recorded on our slack channel, with conversation\n",
    "### class zoom time created video conversations that were not recorded"
   ]
  },
  {
   "cell_type": "markdown",
   "metadata": {
    "pycharm": {
     "name": "#%% md\n"
    }
   },
   "source": [
    "## Project Resource Breakout\n",
    "\n",
    "* **Nathan:**\n",
    "    * Healthy Places Index\n",
    "        * SOURCE: https://healthyplacesindex.org/data-reports/\n",
    "        * SOURCE: https://www2.census.gov/geo/docs/reference/cenpop2010/county/CenPop2010_Mean_CO06.txt\n",
    "        * SOURCE: https://www2.census.gov/geo/docs/maps-data/data/gazetteer/2020_Gazetteer/2020_gaz_tracts_06.txt\n",
    "\n",
    "* **Lisa:**\n",
    "    * map image\n",
    "        * SOURCE: cited on image\n",
    "    * Map the Meal Gap food insecurity projections\n",
    "        * SOURCE: data sent by email by request, contact for citation info (research@feedingamerica.org)\n",
    "        * SOURCE: https://www2.census.gov/geo/docs/reference/cenpop2010/county/CenPop2010_Mean_CO06.txt\n",
    "    * Ethnicity\n",
    "        * SOURCE: https://www.counties.org/data-and-research\n",
    "        * SOURCE: https://www2.census.gov/geo/docs/reference/cenpop2010/county/CenPop2010_Mean_CO06.txt\n",
    "        * SOURCE: https://www.census.gov/quickfacts/fact/table/CA/PST045219\n",
    "    * RECORDER\n",
    "    \n",
    "    \n",
    "* **Keely:**\n",
    "    * Primary Care Shortage Areas\n",
    "        * SOURCE: https://gis.data.ca.gov/datasets/CHHSAgency::primary-care-shortage-areas-pcsa/data?geometry=147.021%2C31.071%2C-91.519%2C43.276\n",
    "    * Medi-Cal fee for service providers\n",
    "        * SOURCE: https://dhcs-chhsagency.opendata.arcgis.com/datasets/c82ded95e48c4d138b3d6130061771a9_0/data?geometry=134.802%2C21.462%2C-3.187%2C63.787\n"
   ]
  },
  {
   "cell_type": "markdown",
   "metadata": {
    "pycharm": {
     "name": "#%% md\n"
    }
   },
   "source": [
    "## Outline of Our Methods, Describe Sources and Search Process for Them As We Go\n",
    "\n",
    "* **Nathan:**\n",
    "\n",
    " * Healthy Places Index\n",
    "   * read in Healty Places Index csv file\n",
    "   * removed all rows that did not contain a hpi2 value\n",
    "   * calculated the isured percentage value iqr, lower quartile, and upper quartile for each county to find outliers\n",
    "   * removed all outlier rows from the dataset\n",
    "   * generated a heatmap of each census tract weighted by the percentile value of insured compared with the population mean\n",
    "     * to correct for colors so that higher values were green and lower values were red, all values were subtracted from 100\n",
    "   * calculated aggregate statistics of the percentage insured grouped by county\n",
    "   * merged the aggregate statistics with the lat/lng values obtained from census.gov for the county center\n",
    "   * generated heatmap of the median % insured by county\n",
    "     * to correct for colors so that higher values were green and lower values were red, all values were subtracted from 100\n",
    "\n",
    "\n",
    "\n",
    "* **Keely:**\n",
    "\n",
    " * Primary Care Shortage Areas\n",
    "   * read in central Lat/Lng for each county and load in df\n",
    "   * read in shortage area csv and load in df\n",
    "   * drop unnecessary columns from shortage areas, then nulls based on physician ratio score (target) column\n",
    "   * merge both dfs on county name\n",
    "   * drop further unnecessary columns\n",
    "   * group multiple county entries by county, using a mean of the Lat/Lng values and a median of ratio score (median avoids outlier skewing)\n",
    "   * heatmap weighted on ratio score where redder is worse and green is better\n",
    "\n",
    "  * Medi-Cal fee for service providers\n",
    "   * read in provider data and load in df\n",
    "   * drop unnecessary columns\n",
    "   * loc on providers in categories that aren't extreme specialties \n",
    "   * loc on providers whose county code is not unknown\n",
    "   * value counts on unique counties for num providers there, sort=False to keep alpha order to match up to Lat/Lng list\n",
    "   * use aggregation to group by county and get mean of Lats and Lngs for that county's entries\n",
    "   * get mean and median of value counts to have an idea of max intensity for heatmap\n",
    "   * heatmap with weights as num providers (value counts)\n",
    "   * reverse google's default rgba values for map so green means more providers, adjust opacity (alpha value) a bit for viewability\n",
    "    \n",
    "\n",
    "* **Lisa:**\n",
    "\n",
    " * Map the Meal Gap food insecurity projections\n",
    "   * read in map the meal gap data and load in df\n",
    "   * loc on California entries\n",
    "   * drop unnecessary columns\n",
    "   * drop nulls\n",
    "   * read in county center Lat/Lng and load in df\n",
    "   * confirm Lat/Lng by county in same order as meal gap data by county\n",
    "   * heatmap using % food insecure as weight so that red is worse, Lat/Lng from county centers\n",
    "\n",
    " * Ethnicity\n",
    "   * read in central Lat/Lng for each county and load in df\n",
    "   * read in ca ethnicity by county and load in df\n",
    "   * drop unnecessary columns\n",
    "   * calculate a minority count by adding all minority counts\n",
    "   * calculate white %, minority % using counts and total population\n",
    "   * identify two largest minority groups in census quick facts for CA\n",
    "   * get % for two largest minority groups combined and four smallest combined using addition over total population"
   ]
  },
  {
   "cell_type": "markdown",
   "metadata": {
    "pycharm": {
     "name": "#%% md\n"
    }
   },
   "source": [
    "### conclusions\n",
    "\n",
    "### core message/hypothesis\n",
    "\n",
    "### description of analysis - questions asked and how approached\n",
    "\n",
    "### numerical summary of conclusions going with maps\n",
    "\n",
    "### implications of our findings"
   ]
  },
  {
   "cell_type": "code",
   "execution_count": null,
   "metadata": {},
   "outputs": [],
   "source": [
    "#powerpoint guidelines\n",
    "\n",
    "#You are free to structure your presentations to your liking, but students tend to have success with the following format.\n",
    "\n",
    "\n",
    "#Title Slide\n",
    "\n",
    "#Include the name of the Project and Group Members\n",
    "\n",
    "\n",
    "\n",
    "#Motivation & Summary Slide\n",
    "\n",
    "#Define the core message or hypothesis of your project.\n",
    "#Describe the questions you asked, and why you asked them\n",
    "#Describe whether you were able to answer these questions to your satisfaction, and briefly summarize your findings\n",
    "\n",
    "\n",
    "\n",
    "#Questions & Data\n",
    "\n",
    "#Elaborate on the questions you asked, describing what kinds of data you needed to answer them, and where you found it\n",
    "\n",
    "\n",
    "\n",
    "#Data Cleanup & Exploration\n",
    "\n",
    "#Describe the exploration and cleanup process\n",
    "#Discuss insights you had while exploring the data that you didn't anticipate\n",
    "#Discuss any problems that arose after exploring the data, and how you resolved them\n",
    "#Present and discuss interesting figures developed during exploration, ideally with the help of Jupyter Notebook\n",
    "\n",
    "\n",
    "\n",
    "#Data Analysis\n",
    "\n",
    "#Discuss the steps you took to analyze the data and answer each question you asked in your proposal\n",
    "#Present and discuss interesting figures developed during analysis, ideally with the help of Jupyter Notebook\n",
    "\n",
    "\n",
    "\n",
    "#Discussion\n",
    "\n",
    "#Discuss your findings. Did you find what you expected to find? If not, why not? What inferences or general conclusions can you draw from your analysis?\n",
    "\n",
    "\n",
    "\n",
    "#Post Mortem\n",
    "\n",
    "#Discuss any difficulties that arose, and how you dealt with them\n",
    "#Discuss any additional questions that came up, but which you didn't have time to answer: What would you research next, if you had two more weeks?\n",
    "\n",
    "\n",
    "\n",
    "#Questions\n",
    "\n",
    "#Open-floor Q&A with the audience"
   ]
  },
  {
   "cell_type": "code",
   "execution_count": null,
   "metadata": {},
   "outputs": [],
   "source": [
    "#citations\n"
   ]
  }
 ],
 "metadata": {
  "kernelspec": {
   "display_name": "Python 3",
   "language": "python",
   "name": "python3"
  },
  "language_info": {
   "codemirror_mode": {
    "name": "ipython",
    "version": 3
   },
   "file_extension": ".py",
   "mimetype": "text/x-python",
   "name": "python",
   "nbconvert_exporter": "python",
   "pygments_lexer": "ipython3",
   "version": "3.8.5"
  }
 },
 "nbformat": 4,
 "nbformat_minor": 4
}