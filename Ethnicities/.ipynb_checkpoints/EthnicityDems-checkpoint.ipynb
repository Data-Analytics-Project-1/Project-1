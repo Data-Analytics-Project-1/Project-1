{
 "cells": [
  {
   "cell_type": "code",
   "execution_count": 32,
   "metadata": {},
   "outputs": [],
   "source": [
    "import pandas as pd\n",
    "import gmaps\n",
    "import matplotlib.pyplot as plt\n",
    "from scipy.stats import linregress\n",
    "from config import g_key\n",
    "pd.options.mode.chained_assignment = None"
   ]
  },
  {
   "cell_type": "code",
   "execution_count": 2,
   "metadata": {},
   "outputs": [
    {
     "data": {
      "text/html": [
       "<div>\n",
       "<style scoped>\n",
       "    .dataframe tbody tr th:only-of-type {\n",
       "        vertical-align: middle;\n",
       "    }\n",
       "\n",
       "    .dataframe tbody tr th {\n",
       "        vertical-align: top;\n",
       "    }\n",
       "\n",
       "    .dataframe thead th {\n",
       "        text-align: right;\n",
       "    }\n",
       "</style>\n",
       "<table border=\"1\" class=\"dataframe\">\n",
       "  <thead>\n",
       "    <tr style=\"text-align: right;\">\n",
       "      <th></th>\n",
       "      <th>STATEFP</th>\n",
       "      <th>COUNTYFP</th>\n",
       "      <th>COUNAME</th>\n",
       "      <th>STNAME</th>\n",
       "      <th>POPULATION</th>\n",
       "      <th>LATITUDE</th>\n",
       "      <th>LONGITUDE</th>\n",
       "    </tr>\n",
       "  </thead>\n",
       "  <tbody>\n",
       "    <tr>\n",
       "      <th>0</th>\n",
       "      <td>6</td>\n",
       "      <td>1</td>\n",
       "      <td>Alameda</td>\n",
       "      <td>California</td>\n",
       "      <td>1510271</td>\n",
       "      <td>37.705201</td>\n",
       "      <td>-122.100393</td>\n",
       "    </tr>\n",
       "    <tr>\n",
       "      <th>1</th>\n",
       "      <td>6</td>\n",
       "      <td>3</td>\n",
       "      <td>Alpine</td>\n",
       "      <td>California</td>\n",
       "      <td>1175</td>\n",
       "      <td>38.728298</td>\n",
       "      <td>-119.847603</td>\n",
       "    </tr>\n",
       "    <tr>\n",
       "      <th>2</th>\n",
       "      <td>6</td>\n",
       "      <td>5</td>\n",
       "      <td>Amador</td>\n",
       "      <td>California</td>\n",
       "      <td>38091</td>\n",
       "      <td>38.394208</td>\n",
       "      <td>-120.775729</td>\n",
       "    </tr>\n",
       "    <tr>\n",
       "      <th>3</th>\n",
       "      <td>6</td>\n",
       "      <td>7</td>\n",
       "      <td>Butte</td>\n",
       "      <td>California</td>\n",
       "      <td>220000</td>\n",
       "      <td>39.669037</td>\n",
       "      <td>-121.707635</td>\n",
       "    </tr>\n",
       "    <tr>\n",
       "      <th>4</th>\n",
       "      <td>6</td>\n",
       "      <td>9</td>\n",
       "      <td>Calaveras</td>\n",
       "      <td>California</td>\n",
       "      <td>45578</td>\n",
       "      <td>38.163627</td>\n",
       "      <td>-120.633718</td>\n",
       "    </tr>\n",
       "  </tbody>\n",
       "</table>\n",
       "</div>"
      ],
      "text/plain": [
       "   STATEFP  COUNTYFP    COUNAME      STNAME  POPULATION   LATITUDE   LONGITUDE\n",
       "0        6         1    Alameda  California     1510271  37.705201 -122.100393\n",
       "1        6         3     Alpine  California        1175  38.728298 -119.847603\n",
       "2        6         5     Amador  California       38091  38.394208 -120.775729\n",
       "3        6         7      Butte  California      220000  39.669037 -121.707635\n",
       "4        6         9  Calaveras  California       45578  38.163627 -120.633718"
      ]
     },
     "execution_count": 2,
     "metadata": {},
     "output_type": "execute_result"
    }
   ],
   "source": [
    "latlng_df = pd.DataFrame(pd.read_csv(\"CenPop2010CountyCenters.csv\"))\n",
    "latlng_df.head()"
   ]
  },
  {
   "cell_type": "code",
   "execution_count": 3,
   "metadata": {},
   "outputs": [
    {
     "data": {
      "text/html": [
       "<div>\n",
       "<style scoped>\n",
       "    .dataframe tbody tr th:only-of-type {\n",
       "        vertical-align: middle;\n",
       "    }\n",
       "\n",
       "    .dataframe tbody tr th {\n",
       "        vertical-align: top;\n",
       "    }\n",
       "\n",
       "    .dataframe thead th {\n",
       "        text-align: right;\n",
       "    }\n",
       "</style>\n",
       "<table border=\"1\" class=\"dataframe\">\n",
       "  <thead>\n",
       "    <tr style=\"text-align: right;\">\n",
       "      <th></th>\n",
       "      <th>County</th>\n",
       "      <th>Population (January 2019)</th>\n",
       "      <th>Population in Group Quarters (January 2019)</th>\n",
       "      <th>Population: Unincorporated (January 2019)</th>\n",
       "      <th>Population: Unincorporated, Group Quarters (January 2019)</th>\n",
       "      <th>Race/Ethnicity: American Indian (2019)</th>\n",
       "      <th>Race/Ethnicity: Asian (2019)</th>\n",
       "      <th>Race/Ethnicity: Black (2019)</th>\n",
       "      <th>Race/Ethnicity: Hispanic (2019)</th>\n",
       "      <th>Race/Ethnicity: Multi-Racial/Ethnic (2019)</th>\n",
       "      <th>...</th>\n",
       "      <th>Registered Voters: Republican (February 2019)</th>\n",
       "      <th>Registered Voters: Other Party (February 2019)</th>\n",
       "      <th>Labor Force: Employed (2018)</th>\n",
       "      <th>Labor Force: Unemployed (2018)</th>\n",
       "      <th>Labor Force: Unemployment Rate (2018)</th>\n",
       "      <th>Poverty: All Ages (2017)</th>\n",
       "      <th>Poverty: All Ages Percent (2017)</th>\n",
       "      <th>Poverty: Under 18 (2017)</th>\n",
       "      <th>Poverty: Under 18 Percent (2017)</th>\n",
       "      <th>Median Household Income (2017)</th>\n",
       "    </tr>\n",
       "  </thead>\n",
       "  <tbody>\n",
       "    <tr>\n",
       "      <th>0</th>\n",
       "      <td>Alameda</td>\n",
       "      <td>1669301</td>\n",
       "      <td>39821</td>\n",
       "      <td>149536</td>\n",
       "      <td>2356.0</td>\n",
       "      <td>4849</td>\n",
       "      <td>443972</td>\n",
       "      <td>192977</td>\n",
       "      <td>391815</td>\n",
       "      <td>69855</td>\n",
       "      <td>...</td>\n",
       "      <td>95587</td>\n",
       "      <td>31070</td>\n",
       "      <td>822800</td>\n",
       "      <td>25400</td>\n",
       "      <td>0.030</td>\n",
       "      <td>152087</td>\n",
       "      <td>0.093</td>\n",
       "      <td>35658</td>\n",
       "      <td>0.105</td>\n",
       "      <td>95550</td>\n",
       "    </tr>\n",
       "    <tr>\n",
       "      <th>1</th>\n",
       "      <td>Alpine</td>\n",
       "      <td>1162</td>\n",
       "      <td>24</td>\n",
       "      <td>1162</td>\n",
       "      <td>24.0</td>\n",
       "      <td>202</td>\n",
       "      <td>6</td>\n",
       "      <td>1</td>\n",
       "      <td>85</td>\n",
       "      <td>22</td>\n",
       "      <td>...</td>\n",
       "      <td>200</td>\n",
       "      <td>42</td>\n",
       "      <td>520</td>\n",
       "      <td>30</td>\n",
       "      <td>0.046</td>\n",
       "      <td>202</td>\n",
       "      <td>0.181</td>\n",
       "      <td>67</td>\n",
       "      <td>0.353</td>\n",
       "      <td>55755</td>\n",
       "    </tr>\n",
       "    <tr>\n",
       "      <th>2</th>\n",
       "      <td>Amador</td>\n",
       "      <td>38294</td>\n",
       "      <td>4362</td>\n",
       "      <td>21774</td>\n",
       "      <td>151.0</td>\n",
       "      <td>594</td>\n",
       "      <td>454</td>\n",
       "      <td>1024</td>\n",
       "      <td>5311</td>\n",
       "      <td>1021</td>\n",
       "      <td>...</td>\n",
       "      <td>9809</td>\n",
       "      <td>1439</td>\n",
       "      <td>14120</td>\n",
       "      <td>590</td>\n",
       "      <td>0.040</td>\n",
       "      <td>3762</td>\n",
       "      <td>0.109</td>\n",
       "      <td>908</td>\n",
       "      <td>0.157</td>\n",
       "      <td>60588</td>\n",
       "    </tr>\n",
       "    <tr>\n",
       "      <th>3</th>\n",
       "      <td>Butte</td>\n",
       "      <td>226466</td>\n",
       "      <td>4970</td>\n",
       "      <td>78702</td>\n",
       "      <td>360.0</td>\n",
       "      <td>3361</td>\n",
       "      <td>10141</td>\n",
       "      <td>3666</td>\n",
       "      <td>35848</td>\n",
       "      <td>8801</td>\n",
       "      <td>...</td>\n",
       "      <td>41330</td>\n",
       "      <td>7398</td>\n",
       "      <td>97600</td>\n",
       "      <td>5100</td>\n",
       "      <td>0.049</td>\n",
       "      <td>40728</td>\n",
       "      <td>0.181</td>\n",
       "      <td>10208</td>\n",
       "      <td>0.226</td>\n",
       "      <td>48634</td>\n",
       "    </tr>\n",
       "    <tr>\n",
       "      <th>4</th>\n",
       "      <td>Calaveras</td>\n",
       "      <td>45117</td>\n",
       "      <td>507</td>\n",
       "      <td>41277</td>\n",
       "      <td>460.0</td>\n",
       "      <td>532</td>\n",
       "      <td>589</td>\n",
       "      <td>371</td>\n",
       "      <td>5114</td>\n",
       "      <td>1320</td>\n",
       "      <td>...</td>\n",
       "      <td>12200</td>\n",
       "      <td>2173</td>\n",
       "      <td>20510</td>\n",
       "      <td>850</td>\n",
       "      <td>0.040</td>\n",
       "      <td>5904</td>\n",
       "      <td>0.131</td>\n",
       "      <td>1590</td>\n",
       "      <td>0.211</td>\n",
       "      <td>58536</td>\n",
       "    </tr>\n",
       "  </tbody>\n",
       "</table>\n",
       "<p>5 rows × 29 columns</p>\n",
       "</div>"
      ],
      "text/plain": [
       "      County  Population (January 2019)  \\\n",
       "0    Alameda                    1669301   \n",
       "1     Alpine                       1162   \n",
       "2     Amador                      38294   \n",
       "3      Butte                     226466   \n",
       "4  Calaveras                      45117   \n",
       "\n",
       "   Population in Group Quarters (January 2019)  \\\n",
       "0                                        39821   \n",
       "1                                           24   \n",
       "2                                         4362   \n",
       "3                                         4970   \n",
       "4                                          507   \n",
       "\n",
       "   Population: Unincorporated (January 2019)  \\\n",
       "0                                     149536   \n",
       "1                                       1162   \n",
       "2                                      21774   \n",
       "3                                      78702   \n",
       "4                                      41277   \n",
       "\n",
       "   Population: Unincorporated, Group Quarters (January 2019)  \\\n",
       "0                                             2356.0           \n",
       "1                                               24.0           \n",
       "2                                              151.0           \n",
       "3                                              360.0           \n",
       "4                                              460.0           \n",
       "\n",
       "   Race/Ethnicity: American Indian (2019)  Race/Ethnicity: Asian (2019)  \\\n",
       "0                                    4849                        443972   \n",
       "1                                     202                             6   \n",
       "2                                     594                           454   \n",
       "3                                    3361                         10141   \n",
       "4                                     532                           589   \n",
       "\n",
       "   Race/Ethnicity: Black (2019)  Race/Ethnicity: Hispanic (2019)  \\\n",
       "0                        192977                           391815   \n",
       "1                             1                               85   \n",
       "2                          1024                             5311   \n",
       "3                          3666                            35848   \n",
       "4                           371                             5114   \n",
       "\n",
       "   Race/Ethnicity: Multi-Racial/Ethnic (2019)  ...  \\\n",
       "0                                       69855  ...   \n",
       "1                                          22  ...   \n",
       "2                                        1021  ...   \n",
       "3                                        8801  ...   \n",
       "4                                        1320  ...   \n",
       "\n",
       "   Registered Voters: Republican (February 2019)  \\\n",
       "0                                          95587   \n",
       "1                                            200   \n",
       "2                                           9809   \n",
       "3                                          41330   \n",
       "4                                          12200   \n",
       "\n",
       "   Registered Voters: Other Party (February 2019)  \\\n",
       "0                                           31070   \n",
       "1                                              42   \n",
       "2                                            1439   \n",
       "3                                            7398   \n",
       "4                                            2173   \n",
       "\n",
       "   Labor Force: Employed (2018)  Labor Force: Unemployed (2018)  \\\n",
       "0                        822800                           25400   \n",
       "1                           520                              30   \n",
       "2                         14120                             590   \n",
       "3                         97600                            5100   \n",
       "4                         20510                             850   \n",
       "\n",
       "   Labor Force: Unemployment Rate (2018)  Poverty: All Ages (2017)  \\\n",
       "0                                  0.030                    152087   \n",
       "1                                  0.046                       202   \n",
       "2                                  0.040                      3762   \n",
       "3                                  0.049                     40728   \n",
       "4                                  0.040                      5904   \n",
       "\n",
       "   Poverty: All Ages Percent (2017)  Poverty: Under 18 (2017)  \\\n",
       "0                             0.093                     35658   \n",
       "1                             0.181                        67   \n",
       "2                             0.109                       908   \n",
       "3                             0.181                     10208   \n",
       "4                             0.131                      1590   \n",
       "\n",
       "   Poverty: Under 18 Percent (2017)  Median Household Income (2017)  \n",
       "0                             0.105                           95550  \n",
       "1                             0.353                           55755  \n",
       "2                             0.157                           60588  \n",
       "3                             0.226                           48634  \n",
       "4                             0.211                           58536  \n",
       "\n",
       "[5 rows x 29 columns]"
      ]
     },
     "execution_count": 3,
     "metadata": {},
     "output_type": "execute_result"
    }
   ],
   "source": [
    "ethnicity_df = pd.DataFrame(pd.read_excel(\"datapile_-_headline_datasets_-_current.xlsx\", 'People'))\n",
    "ethnicity_df.head()"
   ]
  },
  {
   "cell_type": "code",
   "execution_count": 4,
   "metadata": {},
   "outputs": [],
   "source": [
    "ethnicity_df.drop(columns=['Population in Group Quarters (January 2019)',\n",
    "       'Population: Unincorporated (January 2019)',\n",
    "       'Population: Unincorporated, Group Quarters (January 2019)', 'Age: 0-5 (2019)', 'Age: 6-17 (2019)',\n",
    "       'Age: 18-64 (2019)', 'Age: 65+ (2019)',\n",
    "       'Eligible Voters (February 2019)',\n",
    "       'Registered Voters: No Party (February 2019)',\n",
    "       'Registered Voters: Democrat (February 2019)',\n",
    "       'Registered Voters: Republican (February 2019)',\n",
    "       'Registered Voters: Other Party (February 2019)',\n",
    "       'Labor Force: Employed (2018)', 'Labor Force: Unemployed (2018)',\n",
    "       'Labor Force: Unemployment Rate (2018)', 'Poverty: All Ages (2017)',\n",
    "       'Poverty: All Ages Percent (2017)', 'Poverty: Under 18 (2017)',\n",
    "       'Poverty: Under 18 Percent (2017)', 'Median Household Income (2017)'], inplace=True)"
   ]
  },
  {
   "cell_type": "code",
   "execution_count": 5,
   "metadata": {},
   "outputs": [
    {
     "data": {
      "text/html": [
       "<div>\n",
       "<style scoped>\n",
       "    .dataframe tbody tr th:only-of-type {\n",
       "        vertical-align: middle;\n",
       "    }\n",
       "\n",
       "    .dataframe tbody tr th {\n",
       "        vertical-align: top;\n",
       "    }\n",
       "\n",
       "    .dataframe thead th {\n",
       "        text-align: right;\n",
       "    }\n",
       "</style>\n",
       "<table border=\"1\" class=\"dataframe\">\n",
       "  <thead>\n",
       "    <tr style=\"text-align: right;\">\n",
       "      <th></th>\n",
       "      <th>County</th>\n",
       "      <th>Population (January 2019)</th>\n",
       "      <th>Race/Ethnicity: American Indian (2019)</th>\n",
       "      <th>Race/Ethnicity: Asian (2019)</th>\n",
       "      <th>Race/Ethnicity: Black (2019)</th>\n",
       "      <th>Race/Ethnicity: Hispanic (2019)</th>\n",
       "      <th>Race/Ethnicity: Multi-Racial/Ethnic (2019)</th>\n",
       "      <th>Race/Ethnicity: Hawaiian/ Pacific Island (2019)</th>\n",
       "      <th>Race/Ethnicity: White (2019)</th>\n",
       "      <th>Minority</th>\n",
       "      <th>Minority %</th>\n",
       "      <th>White %</th>\n",
       "    </tr>\n",
       "  </thead>\n",
       "  <tbody>\n",
       "    <tr>\n",
       "      <th>0</th>\n",
       "      <td>Alameda</td>\n",
       "      <td>1669301</td>\n",
       "      <td>4849</td>\n",
       "      <td>443972</td>\n",
       "      <td>192977</td>\n",
       "      <td>391815</td>\n",
       "      <td>69855</td>\n",
       "      <td>13634</td>\n",
       "      <td>562667</td>\n",
       "      <td>1117102</td>\n",
       "      <td>66.920346</td>\n",
       "      <td>33.706743</td>\n",
       "    </tr>\n",
       "    <tr>\n",
       "      <th>1</th>\n",
       "      <td>Alpine</td>\n",
       "      <td>1162</td>\n",
       "      <td>202</td>\n",
       "      <td>6</td>\n",
       "      <td>1</td>\n",
       "      <td>85</td>\n",
       "      <td>22</td>\n",
       "      <td>0</td>\n",
       "      <td>830</td>\n",
       "      <td>316</td>\n",
       "      <td>27.194492</td>\n",
       "      <td>71.428571</td>\n",
       "    </tr>\n",
       "    <tr>\n",
       "      <th>2</th>\n",
       "      <td>Amador</td>\n",
       "      <td>38294</td>\n",
       "      <td>594</td>\n",
       "      <td>454</td>\n",
       "      <td>1024</td>\n",
       "      <td>5311</td>\n",
       "      <td>1021</td>\n",
       "      <td>64</td>\n",
       "      <td>29802</td>\n",
       "      <td>8468</td>\n",
       "      <td>22.113125</td>\n",
       "      <td>77.824202</td>\n",
       "    </tr>\n",
       "    <tr>\n",
       "      <th>3</th>\n",
       "      <td>Butte</td>\n",
       "      <td>226466</td>\n",
       "      <td>3361</td>\n",
       "      <td>10141</td>\n",
       "      <td>3666</td>\n",
       "      <td>35848</td>\n",
       "      <td>8801</td>\n",
       "      <td>474</td>\n",
       "      <td>166738</td>\n",
       "      <td>62291</td>\n",
       "      <td>27.505674</td>\n",
       "      <td>73.626063</td>\n",
       "    </tr>\n",
       "    <tr>\n",
       "      <th>4</th>\n",
       "      <td>Calaveras</td>\n",
       "      <td>45117</td>\n",
       "      <td>532</td>\n",
       "      <td>589</td>\n",
       "      <td>371</td>\n",
       "      <td>5114</td>\n",
       "      <td>1320</td>\n",
       "      <td>71</td>\n",
       "      <td>36745</td>\n",
       "      <td>7997</td>\n",
       "      <td>17.725026</td>\n",
       "      <td>81.443802</td>\n",
       "    </tr>\n",
       "  </tbody>\n",
       "</table>\n",
       "</div>"
      ],
      "text/plain": [
       "      County  Population (January 2019)  \\\n",
       "0    Alameda                    1669301   \n",
       "1     Alpine                       1162   \n",
       "2     Amador                      38294   \n",
       "3      Butte                     226466   \n",
       "4  Calaveras                      45117   \n",
       "\n",
       "   Race/Ethnicity: American Indian (2019)  Race/Ethnicity: Asian (2019)  \\\n",
       "0                                    4849                        443972   \n",
       "1                                     202                             6   \n",
       "2                                     594                           454   \n",
       "3                                    3361                         10141   \n",
       "4                                     532                           589   \n",
       "\n",
       "   Race/Ethnicity: Black (2019)  Race/Ethnicity: Hispanic (2019)  \\\n",
       "0                        192977                           391815   \n",
       "1                             1                               85   \n",
       "2                          1024                             5311   \n",
       "3                          3666                            35848   \n",
       "4                           371                             5114   \n",
       "\n",
       "   Race/Ethnicity: Multi-Racial/Ethnic (2019)  \\\n",
       "0                                       69855   \n",
       "1                                          22   \n",
       "2                                        1021   \n",
       "3                                        8801   \n",
       "4                                        1320   \n",
       "\n",
       "   Race/Ethnicity: Hawaiian/ Pacific Island (2019)  \\\n",
       "0                                            13634   \n",
       "1                                                0   \n",
       "2                                               64   \n",
       "3                                              474   \n",
       "4                                               71   \n",
       "\n",
       "   Race/Ethnicity: White (2019)  Minority  Minority %    White %  \n",
       "0                        562667   1117102   66.920346  33.706743  \n",
       "1                           830       316   27.194492  71.428571  \n",
       "2                         29802      8468   22.113125  77.824202  \n",
       "3                        166738     62291   27.505674  73.626063  \n",
       "4                         36745      7997   17.725026  81.443802  "
      ]
     },
     "execution_count": 5,
     "metadata": {},
     "output_type": "execute_result"
    }
   ],
   "source": [
    "ethnicity_df['Minority'] = ethnicity_df['Race/Ethnicity: American Indian (2019)'] + ethnicity_df['Race/Ethnicity: Asian (2019)'] + ethnicity_df['Race/Ethnicity: Black (2019)'] + ethnicity_df['Race/Ethnicity: Hispanic (2019)'] + ethnicity_df['Race/Ethnicity: Multi-Racial/Ethnic (2019)'] + ethnicity_df['Race/Ethnicity: Hawaiian/ Pacific Island (2019)']\n",
    "ethnicity_df['Minority %'] = (ethnicity_df['Minority']/ethnicity_df['Population (January 2019)'])*100\n",
    "ethnicity_df['White %'] = (ethnicity_df['Race/Ethnicity: White (2019)']/ethnicity_df['Population (January 2019)'])*100\n",
    "\n",
    "\n",
    "ethnicity_df.head()"
   ]
  },
  {
   "cell_type": "code",
   "execution_count": 6,
   "metadata": {},
   "outputs": [],
   "source": [
    "gmaps.configure(api_key=g_key)\n",
    "\n",
    "whiteMap = gmaps.figure()\n",
    "minorityMap = gmaps.figure()\n",
    "largestMinoritiesMap = gmaps.figure()\n",
    "smallestMinoritiesMap = gmaps.figure()\n",
    "\n",
    "\n",
    "locations = latlng_df[[\"LATITUDE\", \"LONGITUDE\"]].astype(float)"
   ]
  },
  {
   "cell_type": "code",
   "execution_count": null,
   "metadata": {},
   "outputs": [],
   "source": []
  },
  {
   "cell_type": "code",
   "execution_count": 7,
   "metadata": {},
   "outputs": [],
   "source": [
    "#Heatmap of % of Population White By County"
   ]
  },
  {
   "cell_type": "code",
   "execution_count": 8,
   "metadata": {},
   "outputs": [
    {
     "data": {
      "application/vnd.jupyter.widget-view+json": {
       "model_id": "5d98490ff05941bea73703eff364aad5",
       "version_major": 2,
       "version_minor": 0
      },
      "text/plain": [
       "Figure(layout=FigureLayout(height='420px'))"
      ]
     },
     "metadata": {},
     "output_type": "display_data"
    }
   ],
   "source": [
    "heat_layer_white = gmaps.heatmap_layer(locations, weights=ethnicity_df['White %'], dissipating=False, max_intensity=100, point_radius = .7)\n",
    "\n",
    "whiteMap.add_layer(heat_layer_white)\n",
    "\n",
    "whiteMap"
   ]
  },
  {
   "cell_type": "code",
   "execution_count": null,
   "metadata": {},
   "outputs": [],
   "source": []
  },
  {
   "cell_type": "code",
   "execution_count": 9,
   "metadata": {},
   "outputs": [],
   "source": [
    "#Heatmap of % of Population Non-White By County"
   ]
  },
  {
   "cell_type": "code",
   "execution_count": 10,
   "metadata": {},
   "outputs": [
    {
     "data": {
      "application/vnd.jupyter.widget-view+json": {
       "model_id": "af524756b3d44ff7957bc169d00830fd",
       "version_major": 2,
       "version_minor": 0
      },
      "text/plain": [
       "Figure(layout=FigureLayout(height='420px'))"
      ]
     },
     "metadata": {},
     "output_type": "display_data"
    }
   ],
   "source": [
    "heat_layer_minority = gmaps.heatmap_layer(locations, weights=ethnicity_df['Minority %'], dissipating=False, max_intensity=100, point_radius = 0.7)\n",
    "\n",
    "minorityMap.add_layer(heat_layer_minority)\n",
    "\n",
    "\n",
    "minorityMap"
   ]
  },
  {
   "cell_type": "code",
   "execution_count": null,
   "metadata": {},
   "outputs": [],
   "source": []
  },
  {
   "cell_type": "code",
   "execution_count": 11,
   "metadata": {},
   "outputs": [],
   "source": [
    "#Heatmap of % of Two Largest Minorities By County"
   ]
  },
  {
   "cell_type": "code",
   "execution_count": 12,
   "metadata": {},
   "outputs": [
    {
     "data": {
      "application/vnd.jupyter.widget-view+json": {
       "model_id": "5d996b23a1c546769d8fb366ca8d38dd",
       "version_major": 2,
       "version_minor": 0
      },
      "text/plain": [
       "Figure(layout=FigureLayout(height='420px'))"
      ]
     },
     "metadata": {},
     "output_type": "display_data"
    }
   ],
   "source": [
    "ethnicity_df['Largest Two %'] = ((ethnicity_df['Race/Ethnicity: Asian (2019)'] + ethnicity_df['Race/Ethnicity: Hispanic (2019)'])/ethnicity_df['Population (January 2019)'])*100\n",
    "\n",
    "heat_layer_minority = gmaps.heatmap_layer(locations, weights=ethnicity_df['Largest Two %'], dissipating=False, max_intensity=100, point_radius = 0.7)\n",
    "\n",
    "largestMinoritiesMap.add_layer(heat_layer_minority)\n",
    "\n",
    "\n",
    "largestMinoritiesMap"
   ]
  },
  {
   "cell_type": "code",
   "execution_count": null,
   "metadata": {},
   "outputs": [],
   "source": []
  },
  {
   "cell_type": "code",
   "execution_count": 13,
   "metadata": {},
   "outputs": [],
   "source": [
    "#Heatmap of % of Four Smallest Minorities By County"
   ]
  },
  {
   "cell_type": "code",
   "execution_count": 14,
   "metadata": {},
   "outputs": [
    {
     "data": {
      "application/vnd.jupyter.widget-view+json": {
       "model_id": "8f3e0f594e5a4a2c889ba039127d0131",
       "version_major": 2,
       "version_minor": 0
      },
      "text/plain": [
       "Figure(layout=FigureLayout(height='420px'))"
      ]
     },
     "metadata": {},
     "output_type": "display_data"
    }
   ],
   "source": [
    "ethnicity_df['Smallest Four %'] = ((ethnicity_df['Race/Ethnicity: American Indian (2019)'] + ethnicity_df['Race/Ethnicity: Black (2019)'] + ethnicity_df['Race/Ethnicity: Multi-Racial/Ethnic (2019)'] + ethnicity_df['Race/Ethnicity: Hawaiian/ Pacific Island (2019)'])/ethnicity_df['Population (January 2019)'])*100\n",
    "\n",
    "heat_layer_minority = gmaps.heatmap_layer(locations, weights=ethnicity_df['Smallest Four %'], dissipating=False, max_intensity=50, point_radius = 0.7)\n",
    "\n",
    "smallestMinoritiesMap.add_layer(heat_layer_minority)\n",
    "\n",
    "\n",
    "smallestMinoritiesMap"
   ]
  },
  {
   "cell_type": "code",
   "execution_count": null,
   "metadata": {},
   "outputs": [],
   "source": []
  },
  {
   "cell_type": "code",
   "execution_count": 15,
   "metadata": {},
   "outputs": [
    {
     "data": {
      "text/html": [
       "<div>\n",
       "<style scoped>\n",
       "    .dataframe tbody tr th:only-of-type {\n",
       "        vertical-align: middle;\n",
       "    }\n",
       "\n",
       "    .dataframe tbody tr th {\n",
       "        vertical-align: top;\n",
       "    }\n",
       "\n",
       "    .dataframe thead th {\n",
       "        text-align: right;\n",
       "    }\n",
       "</style>\n",
       "<table border=\"1\" class=\"dataframe\">\n",
       "  <thead>\n",
       "    <tr style=\"text-align: right;\">\n",
       "      <th></th>\n",
       "      <th>FIPS</th>\n",
       "      <th>Total Population</th>\n",
       "      <th>[Revised Projections – March 2021]\\n2020 Food Insecurity  %</th>\n",
       "    </tr>\n",
       "  </thead>\n",
       "  <tbody>\n",
       "    <tr>\n",
       "      <th>0</th>\n",
       "      <td>1</td>\n",
       "      <td>1656754</td>\n",
       "      <td>12.2</td>\n",
       "    </tr>\n",
       "    <tr>\n",
       "      <th>1</th>\n",
       "      <td>3</td>\n",
       "      <td>1039</td>\n",
       "      <td>17.3</td>\n",
       "    </tr>\n",
       "    <tr>\n",
       "      <th>2</th>\n",
       "      <td>5</td>\n",
       "      <td>38429</td>\n",
       "      <td>14.2</td>\n",
       "    </tr>\n",
       "    <tr>\n",
       "      <th>3</th>\n",
       "      <td>7</td>\n",
       "      <td>225817</td>\n",
       "      <td>17.2</td>\n",
       "    </tr>\n",
       "    <tr>\n",
       "      <th>4</th>\n",
       "      <td>9</td>\n",
       "      <td>45514</td>\n",
       "      <td>14.6</td>\n",
       "    </tr>\n",
       "  </tbody>\n",
       "</table>\n",
       "</div>"
      ],
      "text/plain": [
       "   FIPS  Total Population  \\\n",
       "0     1           1656754   \n",
       "1     3              1039   \n",
       "2     5             38429   \n",
       "3     7            225817   \n",
       "4     9             45514   \n",
       "\n",
       "   [Revised Projections – March 2021]\\n2020 Food Insecurity  %  \n",
       "0                                               12.2            \n",
       "1                                               17.3            \n",
       "2                                               14.2            \n",
       "3                                               17.2            \n",
       "4                                               14.6            "
      ]
     },
     "execution_count": 15,
     "metadata": {},
     "output_type": "execute_result"
    }
   ],
   "source": [
    "#Food insecurity data to compare\n",
    "\n",
    "foodInsecurity_df = pd.DataFrame(pd.read_csv(\"Feeding-America-Projections-March 2021-Food-Insecurity.csv\"))\n",
    "CA_df = foodInsecurity_df.loc[foodInsecurity_df['State'] == 'CA']\n",
    "CA_df.reset_index(drop=True, inplace=True)\n",
    "CA_df = CA_df.drop(columns=['[Revised Projections – March 2021]\\n2020 Food Insecurity #',\n",
    "                            '[Revised Projections – March 2021]\\n2020 Food Insecurity % Change',\n",
    "                            '[Revised Projections – March 2021]\\n2020 Food Insecurity # Change',\n",
    "                            '[Revised Projections – March 2021]\\nAdjusted Annual Unemployment Change','Total Child Population', '2019 Child Food Insecurity  %', '2019 Child Food Insecurity #', \n",
    "                            '[Revised Projections – March 2021]\\n2020 Child Food Insecurity  %',\n",
    "                            '[Revised Projections – March 2021]\\n2020 Child Food Insecurity #', \n",
    "                            '[Revised Projections – March 2021]\\n2020 Child Food Insecurity % Change',\n",
    "                            '[Revised Projections – March 2021]\\n2020 Child Food Insecurity # Change',\n",
    "                            '2019 Food Insecurity %', '2019 Food Insecurity #', 'County, State', 'State']) \n",
    "CA_df = CA_df.loc[CA_df['[Revised Projections – March 2021]\\n2020 Food Insecurity  %'].isnull().values == False]\n",
    "CA_df['FIPS'] = CA_df['FIPS'] - 6000\n",
    "CA_df['[Revised Projections – March 2021]\\n2020 Food Insecurity  %'] = CA_df['[Revised Projections – March 2021]\\n2020 Food Insecurity  %']*100\n",
    "CA_df.head()"
   ]
  },
  {
   "cell_type": "code",
   "execution_count": 21,
   "metadata": {},
   "outputs": [
    {
     "name": "stdout",
     "output_type": "stream",
     "text": [
      "The St. Pearson Correlation Coefficient between both factors is 0.1\n"
     ]
    },
    {
     "data": {
      "image/png": "[encoded data removed]",
      "text/plain": [
       "<Figure size 432x288 with 1 Axes>"
      ]
     },
     "metadata": {
      "needs_background": "light"
     },
     "output_type": "display_data"
    }
   ],
   "source": [
    "slope, intercept, rValue, pValue, std_err = linregress(CA_df['[Revised Projections – March 2021]\\n2020 Food Insecurity  %'], ethnicity_df['White %'])\n",
    "print(f'The St. Pearson Correlation Coefficient between both factors is {round(rValue, 2)}')\n",
    "\n",
    "\n",
    "line_best_fit = slope*(CA_df['[Revised Projections – March 2021]\\n2020 Food Insecurity  %']) + intercept\n",
    "\n",
    "\n",
    "annotation_string = 'y = ' + str(round(slope, 2)) + 'x + ' + str(round(intercept, 2))\n",
    "plt.annotate(annotation_string, xy=(12,20), fontsize=13, color='red')\n",
    "plt.plot(CA_df['[Revised Projections – March 2021]\\n2020 Food Insecurity  %'],line_best_fit,\"-\", color='red')\n",
    "\n",
    "plt.xlabel('Food Insecurity %')\n",
    "plt.ylabel('White %')\n",
    "plt.title('Food Insecurity vs Ethnicity Linear Regression')\n",
    "\n",
    "plt.scatter(CA_df['[Revised Projections – March 2021]\\n2020 Food Insecurity  %'], ethnicity_df['White %'], marker='o', facecolors='blue', edgecolors='blue')\n",
    "plt.show()\n"
   ]
  },
  {
   "cell_type": "code",
   "execution_count": 22,
   "metadata": {},
   "outputs": [
    {
     "name": "stdout",
     "output_type": "stream",
     "text": [
      "The St. Pearson Correlation Coefficient between both factors is -0.1\n"
     ]
    },
    {
     "data": {
      "image/png": "[encoded data removed]",
      "text/plain": [
       "<Figure size 432x288 with 1 Axes>"
      ]
     },
     "metadata": {
      "needs_background": "light"
     },
     "output_type": "display_data"
    }
   ],
   "source": [
    "slope, intercept, rValue, pValue, std_err = linregress(CA_df['[Revised Projections – March 2021]\\n2020 Food Insecurity  %'], ethnicity_df['Minority %'])\n",
    "print(f'The St. Pearson Correlation Coefficient between both factors is {round(rValue, 2)}')\n",
    "\n",
    "\n",
    "line_best_fit = slope*(CA_df['[Revised Projections – March 2021]\\n2020 Food Insecurity  %']) + intercept\n",
    "\n",
    "\n",
    "annotation_string = 'y = ' + str(round(slope, 2)) + 'x + ' + str(round(intercept, 2))\n",
    "plt.annotate(annotation_string, xy=(10,85), fontsize=13, color='red')\n",
    "plt.plot(CA_df['[Revised Projections – March 2021]\\n2020 Food Insecurity  %'],line_best_fit,\"-\", color='red')\n",
    "\n",
    "plt.xlabel('Food Insecurity %')\n",
    "plt.ylabel('Minority %')\n",
    "\n",
    "plt.title('Food Insecurity vs Ethnicity Linear Regression')\n",
    "\n",
    "plt.scatter(CA_df['[Revised Projections – March 2021]\\n2020 Food Insecurity  %'], ethnicity_df['Minority %'], marker='o', facecolors='blue', edgecolors='blue')\n",
    "plt.show()"
   ]
  },
  {
   "cell_type": "code",
   "execution_count": 23,
   "metadata": {},
   "outputs": [
    {
     "name": "stdout",
     "output_type": "stream",
     "text": [
      "The St. Pearson Correlation Coefficient between both factors is -0.1\n"
     ]
    },
    {
     "data": {
      "image/png": "[encoded data removed]",
      "text/plain": [
       "<Figure size 432x288 with 1 Axes>"
      ]
     },
     "metadata": {
      "needs_background": "light"
     },
     "output_type": "display_data"
    }
   ],
   "source": [
    "slope, intercept, rValue, pValue, std_err = linregress(CA_df['[Revised Projections – March 2021]\\n2020 Food Insecurity  %'], ethnicity_df['Minority %'])\n",
    "print(f'The St. Pearson Correlation Coefficient between both factors is {round(rValue, 2)}')\n",
    "\n",
    "\n",
    "line_best_fit = slope*(CA_df['[Revised Projections – March 2021]\\n2020 Food Insecurity  %']) + intercept\n",
    "\n",
    "\n",
    "annotation_string = 'y = ' + str(round(slope, 2)) + 'x + ' + str(round(intercept, 2))\n",
    "plt.annotate(annotation_string, xy=(11,80), fontsize=13, color='red')\n",
    "plt.plot(CA_df['[Revised Projections – March 2021]\\n2020 Food Insecurity  %'],line_best_fit,\"-\", color='red')\n",
    "\n",
    "plt.xlabel('Food Insecurity %')\n",
    "plt.ylabel('Minority %')\n",
    "\n",
    "plt.title('Food Insecurity vs Ethnicity Linear Regression')\n",
    "\n",
    "plt.scatter(CA_df['[Revised Projections – March 2021]\\n2020 Food Insecurity  %'], ethnicity_df['Minority %'], marker='o', facecolors='blue', edgecolors='blue')\n",
    "plt.show()"
   ]
  },
  {
   "cell_type": "code",
   "execution_count": 24,
   "metadata": {},
   "outputs": [
    {
     "name": "stdout",
     "output_type": "stream",
     "text": [
      "The St. Pearson Correlation Coefficient between both factors is -0.11\n"
     ]
    },
    {
     "data": {
      "image/png": "[encoded data removed]",
      "text/plain": [
       "<Figure size 432x288 with 1 Axes>"
      ]
     },
     "metadata": {
      "needs_background": "light"
     },
     "output_type": "display_data"
    }
   ],
   "source": [
    "slope, intercept, rValue, pValue, std_err = linregress(CA_df['[Revised Projections – March 2021]\\n2020 Food Insecurity  %'], ethnicity_df['Largest Two %'])\n",
    "print(f'The St. Pearson Correlation Coefficient between both factors is {round(rValue, 2)}')\n",
    "\n",
    "\n",
    "line_best_fit = slope*(CA_df['[Revised Projections – March 2021]\\n2020 Food Insecurity  %']) + intercept\n",
    "\n",
    "\n",
    "annotation_string = 'y = ' + str(round(slope, 2)) + 'x + ' + str(round(intercept, 2))\n",
    "plt.annotate(annotation_string, xy=(10, 80), fontsize=13, color='red')\n",
    "plt.plot(CA_df['[Revised Projections – March 2021]\\n2020 Food Insecurity  %'],line_best_fit,\"-\", color='red')\n",
    "\n",
    "plt.xlabel('Food Insecurity %')\n",
    "plt.ylabel('Largest Two Minorities %')\n",
    "\n",
    "\n",
    "plt.title('Food Insecurity vs Ethnicity Linear Regression')\n",
    "\n",
    "plt.scatter(CA_df['[Revised Projections – March 2021]\\n2020 Food Insecurity  %'], ethnicity_df['Largest Two %'], marker='o', facecolors='blue', edgecolors='blue')\n",
    "plt.show()"
   ]
  },
  {
   "cell_type": "code",
   "execution_count": 25,
   "metadata": {},
   "outputs": [
    {
     "name": "stdout",
     "output_type": "stream",
     "text": [
      "The St. Pearson Correlation Coefficient between both factors is 0.04\n"
     ]
    },
    {
     "data": {
      "image/png": "[encoded data removed]",
      "text/plain": [
       "<Figure size 432x288 with 1 Axes>"
      ]
     },
     "metadata": {
      "needs_background": "light"
     },
     "output_type": "display_data"
    }
   ],
   "source": [
    "slope, intercept, rValue, pValue, std_err = linregress(CA_df['[Revised Projections – March 2021]\\n2020 Food Insecurity  %'], ethnicity_df['Smallest Four %'])\n",
    "print(f'The St. Pearson Correlation Coefficient between both factors is {round(rValue, 2)}')\n",
    "\n",
    "\n",
    "line_best_fit = slope*(CA_df['[Revised Projections – March 2021]\\n2020 Food Insecurity  %']) + intercept\n",
    "\n",
    "\n",
    "annotation_string = 'y = ' + str(round(slope, 2)) + 'x + ' + str(round(intercept, 2))\n",
    "plt.annotate(annotation_string, xy=(10,18), fontsize=13, color='red')\n",
    "plt.plot(CA_df['[Revised Projections – March 2021]\\n2020 Food Insecurity  %'],line_best_fit,\"-\", color='red')\n",
    "\n",
    "plt.xlabel('Food Insecurity %')\n",
    "plt.ylabel('Smallest Four Minorities %')\n",
    "\n",
    "plt.title('Food Insecurity vs Ethnicity Linear Regression')\n",
    "\n",
    "plt.scatter(CA_df['[Revised Projections – March 2021]\\n2020 Food Insecurity  %'], ethnicity_df['Smallest Four %'], marker='o', facecolors='blue', edgecolors='blue')\n",
    "plt.show()"
   ]
  },
  {
   "cell_type": "code",
   "execution_count": null,
   "metadata": {},
   "outputs": [],
   "source": []
  },
  {
   "cell_type": "code",
   "execution_count": null,
   "metadata": {},
   "outputs": [],
   "source": []
  },
  {
   "cell_type": "code",
   "execution_count": 26,
   "metadata": {},
   "outputs": [],
   "source": [
    "caproviderdata = pd.read_csv(\"Enrolled_Medi-Cal_Fee_For_Service_Provider_File.csv\", low_memory=False)\n",
    "caprovider_df = pd.DataFrame(caproviderdata)\n",
    "caprovider_df = caprovider_df.drop(columns=['X', 'Y', \"NPI_Provider_Number\", \"Owner_Number\", 'Provider_Address_Zip',\n",
    "                                            \"Service_Location_Number\", \"Provider_Legal_Name\", \n",
    "                                            \"Provider_Type_Code\", \"Provider_License_Number\",\n",
    "                                            \"Provider_Specialty_Code\", \"Out_Of_State_Ind\", \"Out_Of_State_Desc\", \n",
    "                                            \"Provider_Address_County_Code\", \"Provider_Address_Attention_Line\", \n",
    "                                            \"Provider_Address_Line_1\", \"Provider_Address_Line_2\", \"Provider_Address_State\", \n",
    "                                            \"MSSA_ID\",\"Tract_ID\", \"File_\", \"ObjectId\",\"Enrollment_Status_Effective_Dat\",\n",
    "                                            \"Provider_Address_City\", \"Provider_Specialty_Code_Desc\", \"Provider_Number\"])\n",
    "targetGroups_df = caprovider_df.loc[(caprovider_df[\"Provider_Type_Code_Desc\"] == \"PHYSICIANS GROUP (FFS)\") | (caprovider_df[\"Provider_Type_Code_Desc\"] == \"PHYSICIANS (FFS)\")]\n",
    "targetGroups_df = targetGroups_df.loc[(caprovider_df[\"Provider_Address_County_Code_De\"] != \"UNKNOWN\")]\n",
    "targetCounts = targetGroups_df.value_counts('Provider_Address_County_Code_De', sort=False)\n",
    "targetsGrouped_df = targetGroups_df.groupby('Provider_Address_County_Code_De').agg({'Provider_Address_Latitude':'mean', 'Provider_Address_Longitude':'mean'})\n"
   ]
  },
  {
   "cell_type": "code",
   "execution_count": 28,
   "metadata": {},
   "outputs": [
    {
     "name": "stdout",
     "output_type": "stream",
     "text": [
      "The St. Pearson Correlation Coefficient between both factors is -0.39\n"
     ]
    },
    {
     "data": {
      "image/png": "[encoded data removed]",
      "text/plain": [
       "<Figure size 432x288 with 1 Axes>"
      ]
     },
     "metadata": {
      "needs_background": "light"
     },
     "output_type": "display_data"
    }
   ],
   "source": [
    "slope, intercept, rValue, pValue, std_err = linregress(targetCounts, ethnicity_df['White %'])\n",
    "print(f'The St. Pearson Correlation Coefficient between both factors is {round(rValue, 2)}')\n",
    "\n",
    "\n",
    "line_best_fit = slope*(targetCounts) + intercept\n",
    "\n",
    "\n",
    "annotation_string = 'y = ' + str(round(slope, 2)) + 'x + ' + str(round(intercept, 2))\n",
    "plt.annotate(annotation_string, xy=(10,18), fontsize=13, color='red')\n",
    "plt.plot(targetCounts,line_best_fit,\"-\", color='red')\n",
    "\n",
    "plt.xlabel('Number of Providers')\n",
    "plt.ylabel('White %')\n",
    "\n",
    "plt.title('Number of Proximate Providers vs Ethnicity Linear Regression')\n",
    "\n",
    "plt.scatter(targetCounts, ethnicity_df['White %'], marker='o', facecolors='blue', edgecolors='blue')\n",
    "plt.show()"
   ]
  },
  {
   "cell_type": "code",
   "execution_count": 29,
   "metadata": {},
   "outputs": [
    {
     "name": "stdout",
     "output_type": "stream",
     "text": [
      "The St. Pearson Correlation Coefficient between both factors is 0.38\n"
     ]
    },
    {
     "data": {
      "image/png": "[encoded data removed]",
      "text/plain": [
       "<Figure size 432x288 with 1 Axes>"
      ]
     },
     "metadata": {
      "needs_background": "light"
     },
     "output_type": "display_data"
    }
   ],
   "source": [
    "slope, intercept, rValue, pValue, std_err = linregress(targetCounts, ethnicity_df['Minority %'])\n",
    "print(f'The St. Pearson Correlation Coefficient between both factors is {round(rValue, 2)}')\n",
    "\n",
    "\n",
    "line_best_fit = slope*(targetCounts) + intercept\n",
    "\n",
    "\n",
    "annotation_string = 'y = ' + str(round(slope, 2)) + 'x + ' + str(round(intercept, 2))\n",
    "plt.annotate(annotation_string, xy=(10,18), fontsize=13, color='red')\n",
    "plt.plot(targetCounts,line_best_fit,\"-\", color='red')\n",
    "\n",
    "plt.xlabel('Number of Providers')\n",
    "plt.ylabel('Minority %')\n",
    "\n",
    "plt.title('Number of Proximate Providers vs Ethnicity Linear Regression')\n",
    "\n",
    "plt.scatter(targetCounts, ethnicity_df['Minority %'], marker='o', facecolors='blue', edgecolors='blue')\n",
    "plt.show()"
   ]
  },
  {
   "cell_type": "code",
   "execution_count": 30,
   "metadata": {},
   "outputs": [
    {
     "name": "stdout",
     "output_type": "stream",
     "text": [
      "The St. Pearson Correlation Coefficient between both factors is 0.35\n"
     ]
    },
    {
     "data": {
      "image/png": "[encoded data removed]",
      "text/plain": [
       "<Figure size 432x288 with 1 Axes>"
      ]
     },
     "metadata": {
      "needs_background": "light"
     },
     "output_type": "display_data"
    }
   ],
   "source": [
    "slope, intercept, rValue, pValue, std_err = linregress(targetCounts, ethnicity_df['Largest Two %'])\n",
    "print(f'The St. Pearson Correlation Coefficient between both factors is {round(rValue, 2)}')\n",
    "\n",
    "\n",
    "line_best_fit = slope*(targetCounts) + intercept\n",
    "\n",
    "\n",
    "annotation_string = 'y = ' + str(round(slope, 2)) + 'x + ' + str(round(intercept, 2))\n",
    "plt.annotate(annotation_string, xy=(10,18), fontsize=13, color='red')\n",
    "plt.plot(targetCounts,line_best_fit,\"-\", color='red')\n",
    "\n",
    "plt.xlabel('Number of Providers')\n",
    "plt.ylabel('Largest Two %')\n",
    "\n",
    "plt.title('Number of Proximate Providers vs Ethnicity Linear Regression')\n",
    "\n",
    "plt.scatter(targetCounts, ethnicity_df['Largest Two %'], marker='o', facecolors='blue', edgecolors='blue')\n",
    "plt.show()"
   ]
  },
  {
   "cell_type": "code",
   "execution_count": 31,
   "metadata": {},
   "outputs": [
    {
     "name": "stdout",
     "output_type": "stream",
     "text": [
      "The St. Pearson Correlation Coefficient between both factors is 0.18\n"
     ]
    },
    {
     "data": {
      "image/png": "[encoded data removed]",
      "text/plain": [
       "<Figure size 432x288 with 1 Axes>"
      ]
     },
     "metadata": {
      "needs_background": "light"
     },
     "output_type": "display_data"
    }
   ],
   "source": [
    "slope, intercept, rValue, pValue, std_err = linregress(targetCounts, ethnicity_df['Smallest Four %'])\n",
    "print(f'The St. Pearson Correlation Coefficient between both factors is {round(rValue, 2)}')\n",
    "\n",
    "\n",
    "line_best_fit = slope*(targetCounts) + intercept\n",
    "\n",
    "\n",
    "annotation_string = 'y = ' + str(round(slope, 2)) + 'x + ' + str(round(intercept, 2))\n",
    "plt.annotate(annotation_string, xy=(10,18), fontsize=13, color='red')\n",
    "plt.plot(targetCounts,line_best_fit,\"-\", color='red')\n",
    "\n",
    "plt.xlabel('Number of Providers')\n",
    "plt.ylabel('Smallest Four %')\n",
    "\n",
    "plt.title('Number of Proximate Providers vs Ethnicity Linear Regression')\n",
    "\n",
    "plt.scatter(targetCounts, ethnicity_df['Smallest Four %'], marker='o', facecolors='blue', edgecolors='blue')\n",
    "plt.show()"
   ]
  },
  {
   "cell_type": "code",
   "execution_count": null,
   "metadata": {},
   "outputs": [],
   "source": []
  },
  {
   "cell_type": "code",
   "execution_count": null,
   "metadata": {},
   "outputs": [],
   "source": []
  },
  {
   "cell_type": "code",
   "execution_count": null,
   "metadata": {},
   "outputs": [],
   "source": []
  }
 ],
 "metadata": {
  "kernelspec": {
   "display_name": "Python 3",
   "language": "python",
   "name": "python3"
  },
  "language_info": {
   "codemirror_mode": {
    "name": "ipython",
    "version": 3
   },
   "file_extension": ".py",
   "mimetype": "text/x-python",
   "name": "python",
   "nbconvert_exporter": "python",
   "pygments_lexer": "ipython3",
   "version": "3.8.5"
  }
 },
 "nbformat": 4,
 "nbformat_minor": 4
}
