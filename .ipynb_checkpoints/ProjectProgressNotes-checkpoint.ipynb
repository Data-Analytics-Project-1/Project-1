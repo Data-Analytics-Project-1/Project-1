{
 "cells": [
  {
   "cell_type": "code",
   "execution_count": 1,
   "metadata": {},
   "outputs": [],
   "source": [
    "#PROJECT 1 PROGRESS NOTES: Lisa, Keely, Nathan\n",
    "#a running list of data sharing is recorded on our slack channel, with conversation\n",
    "#class zoom time created video conversations that were not recorded"
   ]
  },
  {
   "cell_type": "code",
   "execution_count": null,
   "metadata": {},
   "outputs": [],
   "source": [
    "#project resource breakout\n",
    "\n",
    "#Nathan:\n",
    "# -Healthy Places Index\n",
    "    #SOURCE: https://healthyplacesindex.org/data-reports/\n",
    "# -OSHPD Healthcare Facilities\n",
    "    #SOURCE: https://gis.data.ca.gov/datasets/CHHSAgency::oshpd-healthcare-facilities/data?geometry=-146.617%2C31.057%2C-92.037%2C43.264\n",
    "\n",
    "#Lisa:\n",
    "# -map image\n",
    "    #SOURCE: cited on image\n",
    "# -Map the Meal Gap food insecurity projections\n",
    "    #SOURCE: data sent by email by request, contact for citation info (research@feedingamerica.org)\n",
    "    #SOURCE: https://www2.census.gov/geo/docs/reference/cenpop2010/county/CenPop2010_Mean_CO06.txt\n",
    "# -Medical Service Study Areas\n",
    "    #SOURCE: https://gis.data.ca.gov/datasets/CHHSAgency::mssa-detail/data?geometry=-146.026%2C30.991%2C-91.446%2C43.209\n",
    "# -RECORDER\n",
    "    \n",
    "    \n",
    "#Keely:\n",
    "# -Primary Care Shortage Areas\n",
    "    #SOURCE: https://gis.data.ca.gov/datasets/CHHSAgency::primary-care-shortage-areas-pcsa/data?geometry=-147.021%2C31.071%2C-91.519%2C43.276\n",
    "# -Medi-Cal fee for service providers\n",
    "    #SOURCE: https://dhcs-chhsagency.opendata.arcgis.com/datasets/c82ded95e48c4d138b3d6130061771a9_0/data?geometry=134.802%2C21.462%2C-3.187%2C63.787\n"
   ]
  },
  {
   "cell_type": "code",
   "execution_count": null,
   "metadata": {},
   "outputs": [],
   "source": [
    "#outline of our methods\n"
   ]
  },
  {
   "cell_type": "code",
   "execution_count": null,
   "metadata": {},
   "outputs": [],
   "source": [
    "#conclusions\n"
   ]
  },
  {
   "cell_type": "code",
   "execution_count": null,
   "metadata": {},
   "outputs": [],
   "source": [
    "#citations\n"
   ]
  }
 ],
 "metadata": {
  "kernelspec": {
   "display_name": "Python 3",
   "language": "python",
   "name": "python3"
  },
  "language_info": {
   "codemirror_mode": {
    "name": "ipython",
    "version": 3
   },
   "file_extension": ".py",
   "mimetype": "text/x-python",
   "name": "python",
   "nbconvert_exporter": "python",
   "pygments_lexer": "ipython3",
   "version": "3.8.5"
  }
 },
 "nbformat": 4,
 "nbformat_minor": 4
}
