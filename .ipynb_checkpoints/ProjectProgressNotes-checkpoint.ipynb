{
 "cells": [
  {
   "cell_type": "code",
   "execution_count": 1,
   "metadata": {},
   "outputs": [],
   "source": [
    "#PROJECT 1 PROGRESS NOTES: Lisa, Keely, Nathan\n",
    "#a running list of data sharing is recorded on our slack channel, with conversation\n",
    "#class zoom time created video conversations that were not recorded"
   ]
  },
  {
   "cell_type": "code",
   "execution_count": null,
   "metadata": {},
   "outputs": [],
   "source": [
    "#project resource breakout\n",
    "\n",
    "#Nathan:\n",
    "# -Healthy Places Index\n",
    "    #SOURCE: https://healthyplacesindex.org/data-reports/\n",
    "    #SOURCE: https://www2.census.gov/geo/docs/reference/cenpop2010/county/CenPop2010_Mean_CO06.txt\n",
    "    #SOURCE: https://www2.census.gov/geo/docs/maps-data/data/gazetteer/2020_Gazetteer/2020_gaz_tracts_06.txt\n",
    "\n",
    "#Lisa:\n",
    "# -map image\n",
    "    #SOURCE: cited on image\n",
    "# -Map the Meal Gap food insecurity projections\n",
    "    #SOURCE: data sent by email by request, contact for citation info (research@feedingamerica.org)\n",
    "    #SOURCE: https://www2.census.gov/geo/docs/reference/cenpop2010/county/CenPop2010_Mean_CO06.txt\n",
    "# -Ethnicity\n",
    "    #SOURCE: https://www.counties.org/data-and-research\n",
    "    #SOURCE: https://www2.census.gov/geo/docs/reference/cenpop2010/county/CenPop2010_Mean_CO06.txt\n",
    "    #SOURCE: https://www.census.gov/quickfacts/fact/table/CA/PST045219\n",
    "# -RECORDER\n",
    "    \n",
    "    \n",
    "#Keely:\n",
    "# -Primary Care Shortage Areas\n",
    "    #SOURCE: https://gis.data.ca.gov/datasets/CHHSAgency::primary-care-shortage-areas-pcsa/data?geometry=147.021%2C31.071%2C-91.519%2C43.276\n",
    "# -Medi-Cal fee for service providers\n",
    "    #SOURCE: https://dhcs-chhsagency.opendata.arcgis.com/datasets/c82ded95e48c4d138b3d6130061771a9_0/data?geometry=134.802%2C21.462%2C-3.187%2C63.787\n"
   ]
  },
  {
   "cell_type": "code",
   "execution_count": null,
   "metadata": {},
   "outputs": [],
   "source": [
    "#outline of our methods\n",
    "\n",
    "#Keely\n",
    "\n",
    "#-Primary Care Shortage Areas\n",
    "  #read in central Lat/Lng for each county and load in df\n",
    "  #read in shortage area csv and load in df\n",
    "  #drop unnecessary columns from shortage areas, then nulls based on physician ratio score (target) column\n",
    "  #merge both dfs on county name\n",
    "  #drop further unnecessary columns\n",
    "  #group multiple county entries by county, using a mean of the Lat/Lng values and a median of ratio score (median avoids outlier skewing)\n",
    "  #heatmap weighted on ratio score where redder is worse and green is better\n",
    "\n",
    "\n",
    "#-Medi-Cal fee for service providers\n",
    "  #read in provider data and load in df\n",
    "  #drop unnecessary columns\n",
    "  #loc on providers in categories that aren't extreme specialties \n",
    "  #loc on providers whose county code is not unknown\n",
    "  #value counts on unique counties for num providers there, sort=False to keep alpha order to match up to Lat/Lng list\n",
    "  #use aggregation to group by county and get mean of Lats and Lngs for that county's entries\n",
    "  #get mean and median of value counts to have an idea of max intensity for heatmap\n",
    "  #heatmap with weights as num providers (value counts)\n",
    "  #reverse google's default rgba values for map so green means more providers, adjust opacity a bit for viewability\n",
    "    \n",
    "\n",
    "\n",
    "\n",
    "\n",
    "\n",
    "#Lisa\n"
   ]
  },
  {
   "cell_type": "code",
   "execution_count": null,
   "metadata": {},
   "outputs": [],
   "source": [
    "#conclusions\n"
   ]
  },
  {
   "cell_type": "code",
   "execution_count": null,
   "metadata": {},
   "outputs": [],
   "source": [
    "#citations\n"
   ]
  }
 ],
 "metadata": {
  "kernelspec": {
   "display_name": "Python 3",
   "language": "python",
   "name": "python3"
  },
  "language_info": {
   "codemirror_mode": {
    "name": "ipython",
    "version": 3
   },
   "file_extension": ".py",
   "mimetype": "text/x-python",
   "name": "python",
   "nbconvert_exporter": "python",
   "pygments_lexer": "ipython3",
   "version": "3.8.5"
  }
 },
 "nbformat": 4,
 "nbformat_minor": 4
}
