{
 "cells": [
  {
   "cell_type": "code",
   "execution_count": 1,
   "metadata": {},
   "outputs": [],
   "source": [
    "import matplotlib.pyplot as plt\n",
    "import pandas as pd"
   ]
  },
  {
   "cell_type": "code",
   "execution_count": 12,
   "metadata": {},
   "outputs": [
    {
     "data": {
      "text/html": [
       "<div>\n",
       "<style scoped>\n",
       "    .dataframe tbody tr th:only-of-type {\n",
       "        vertical-align: middle;\n",
       "    }\n",
       "\n",
       "    .dataframe tbody tr th {\n",
       "        vertical-align: top;\n",
       "    }\n",
       "\n",
       "    .dataframe thead th {\n",
       "        text-align: right;\n",
       "    }\n",
       "</style>\n",
       "<table border=\"1\" class=\"dataframe\">\n",
       "  <thead>\n",
       "    <tr style=\"text-align: right;\">\n",
       "      <th></th>\n",
       "      <th>OBJECTID</th>\n",
       "      <th>UNIT_COUNT</th>\n",
       "      <th>CNTY_FIPS</th>\n",
       "      <th>COUNTY</th>\n",
       "      <th>MSSA_ID</th>\n",
       "      <th>MSSA_NAME</th>\n",
       "      <th>DEFINITION</th>\n",
       "      <th>POPDENSITY</th>\n",
       "      <th>AREA_SQMI</th>\n",
       "      <th>POP</th>\n",
       "      <th>PCSA</th>\n",
       "      <th>PCSA_SCORE</th>\n",
       "      <th>PC_PHYS</th>\n",
       "      <th>PC_PHYS_R_CIV</th>\n",
       "      <th>POVScore</th>\n",
       "      <th>PHYSRatioScore</th>\n",
       "      <th>Shape__Area</th>\n",
       "      <th>Shape__Length</th>\n",
       "    </tr>\n",
       "  </thead>\n",
       "  <tbody>\n",
       "    <tr>\n",
       "      <th>0</th>\n",
       "      <td>1</td>\n",
       "      <td>11</td>\n",
       "      <td>1</td>\n",
       "      <td>Alameda</td>\n",
       "      <td>1.1</td>\n",
       "      <td>Livermore Central and West/Spring Town</td>\n",
       "      <td>Urban</td>\n",
       "      <td>1752.000139</td>\n",
       "      <td>0.472102</td>\n",
       "      <td>43860</td>\n",
       "      <td>0</td>\n",
       "      <td>2</td>\n",
       "      <td>48.0</td>\n",
       "      <td>1186.104167</td>\n",
       "      <td>1</td>\n",
       "      <td>1</td>\n",
       "      <td>0.008283</td>\n",
       "      <td>0.489279</td>\n",
       "    </tr>\n",
       "    <tr>\n",
       "      <th>1</th>\n",
       "      <td>2</td>\n",
       "      <td>8</td>\n",
       "      <td>1</td>\n",
       "      <td>Alameda</td>\n",
       "      <td>1.2</td>\n",
       "      <td>Altamont/Livermore East/Midway/Mountain House/...</td>\n",
       "      <td>Rural</td>\n",
       "      <td>116.545153</td>\n",
       "      <td>1.950268</td>\n",
       "      <td>32480</td>\n",
       "      <td>1</td>\n",
       "      <td>6</td>\n",
       "      <td>12.0</td>\n",
       "      <td>3167.333333</td>\n",
       "      <td>1</td>\n",
       "      <td>5</td>\n",
       "      <td>0.086298</td>\n",
       "      <td>1.651976</td>\n",
       "    </tr>\n",
       "    <tr>\n",
       "      <th>2</th>\n",
       "      <td>3</td>\n",
       "      <td>12</td>\n",
       "      <td>7</td>\n",
       "      <td>Butte</td>\n",
       "      <td>10</td>\n",
       "      <td>Oroville/Palermo/Thermalito</td>\n",
       "      <td>Rural</td>\n",
       "      <td>175.468375</td>\n",
       "      <td>7.768868</td>\n",
       "      <td>42656</td>\n",
       "      <td>1</td>\n",
       "      <td>5</td>\n",
       "      <td>34.0</td>\n",
       "      <td>1408.352941</td>\n",
       "      <td>4</td>\n",
       "      <td>1</td>\n",
       "      <td>0.075224</td>\n",
       "      <td>1.615445</td>\n",
       "    </tr>\n",
       "    <tr>\n",
       "      <th>3</th>\n",
       "      <td>4</td>\n",
       "      <td>1</td>\n",
       "      <td>49</td>\n",
       "      <td>Modoc</td>\n",
       "      <td>100</td>\n",
       "      <td>Adin/Lookout/Newell</td>\n",
       "      <td>Frontier</td>\n",
       "      <td>2.315574</td>\n",
       "      <td>956.134376</td>\n",
       "      <td>1454</td>\n",
       "      <td>1</td>\n",
       "      <td>7</td>\n",
       "      <td>0.0</td>\n",
       "      <td>0.000000</td>\n",
       "      <td>2</td>\n",
       "      <td>5</td>\n",
       "      <td>0.267075</td>\n",
       "      <td>3.281548</td>\n",
       "    </tr>\n",
       "    <tr>\n",
       "      <th>4</th>\n",
       "      <td>5</td>\n",
       "      <td>2</td>\n",
       "      <td>51</td>\n",
       "      <td>Mono</td>\n",
       "      <td>102</td>\n",
       "      <td>Benton/Bridgeport/Chalfant/Crowley Lake/Colevi...</td>\n",
       "      <td>Frontier</td>\n",
       "      <td>1.957937</td>\n",
       "      <td>1452.267904</td>\n",
       "      <td>5343</td>\n",
       "      <td>1</td>\n",
       "      <td>6</td>\n",
       "      <td>1.0</td>\n",
       "      <td>5951.000000</td>\n",
       "      <td>1</td>\n",
       "      <td>5</td>\n",
       "      <td>0.813804</td>\n",
       "      <td>5.793963</td>\n",
       "    </tr>\n",
       "  </tbody>\n",
       "</table>\n",
       "</div>"
      ],
      "text/plain": [
       "   OBJECTID  UNIT_COUNT  CNTY_FIPS   COUNTY MSSA_ID  \\\n",
       "0         1          11          1  Alameda     1.1   \n",
       "1         2           8          1  Alameda     1.2   \n",
       "2         3          12          7    Butte      10   \n",
       "3         4           1         49    Modoc     100   \n",
       "4         5           2         51     Mono     102   \n",
       "\n",
       "                                           MSSA_NAME DEFINITION   POPDENSITY  \\\n",
       "0             Livermore Central and West/Spring Town      Urban  1752.000139   \n",
       "1  Altamont/Livermore East/Midway/Mountain House/...      Rural   116.545153   \n",
       "2                        Oroville/Palermo/Thermalito      Rural   175.468375   \n",
       "3                                Adin/Lookout/Newell   Frontier     2.315574   \n",
       "4  Benton/Bridgeport/Chalfant/Crowley Lake/Colevi...   Frontier     1.957937   \n",
       "\n",
       "     AREA_SQMI    POP  PCSA  PCSA_SCORE  PC_PHYS  PC_PHYS_R_CIV  POVScore  \\\n",
       "0     0.472102  43860     0           2     48.0    1186.104167         1   \n",
       "1     1.950268  32480     1           6     12.0    3167.333333         1   \n",
       "2     7.768868  42656     1           5     34.0    1408.352941         4   \n",
       "3   956.134376   1454     1           7      0.0       0.000000         2   \n",
       "4  1452.267904   5343     1           6      1.0    5951.000000         1   \n",
       "\n",
       "   PHYSRatioScore  Shape__Area  Shape__Length  \n",
       "0               1     0.008283       0.489279  \n",
       "1               5     0.086298       1.651976  \n",
       "2               1     0.075224       1.615445  \n",
       "3               5     0.267075       3.281548  \n",
       "4               5     0.813804       5.793963  "
      ]
     },
     "execution_count": 12,
     "metadata": {},
     "output_type": "execute_result"
    }
   ],
   "source": [
    "PCSA_df = pd.DataFrame(pd.read_csv(\"Primary_Care_Shortage_Areas_(PCSA).csv\"))\n",
    "PCSA_df.head() "
   ]
  },
  {
   "cell_type": "code",
   "execution_count": 3,
   "metadata": {},
   "outputs": [],
   "source": [
    "#MSSA_NAME\ttext\tMSSA_NAME\tName of the MSSA.\n",
    "#Total_Population\tnumeric\tTotal_Population\tTotal Population of the MSSA.\n",
    "#EST_Physicians\tnumeric\tEST_Physicians\tEstimated number of primary care physicians in the MSSA.  Includes MDs and DOs.\n",
    "#EST_FNPPA\tnumeric\tEST_FNPPA\tEstimated number of family nurse practitioners and primary care physician assistants in the MSSA.\n",
    "#EST_Providers\tnumeric\tEST_Providers\tEstimated number of primary care providers in the MSSA.  Calculated as EST_Physicians + (0.75 * EST_FNPPA).\n",
    "#Provider_Ratio\tnumeric\tProvider_Ratio\tPopulation-to-provider ratio of the MSSA.  Calculated as Total_Population / EST_Providers.\n",
    "#Score_Provider_Ratio\tnumeric\tScore_Provider_Ratio\tSubscore based on the provider ratio of the MSSA.  Possible values are 0-5.\n",
    "#Pop_100FPL\tnumeric\tPop_100FPL\tPopulation living  below the federal poverty level in the MSSA.\n",
    "#PCT_100FPL\tnumeric\tPCT_100FPL\tPercent of the population in the MSSA living below the federal poverty level.  Calculated as Pop_100FPL / Total_Population.\n",
    "#Score_Poverty\tnumeric\tScore_Poverty\tSubscore based on the poverty of the MSSA.  Possible values are 0-5.\n",
    "#Score_Total\tnumeric\tScore_Total\tFinal score of the MSSA for consideration as a Primary Care Shortage Area (PCSA).  Calculated as Score_Provider_Ratio + Score_Poverty.  Possible values are 0-10.\n",
    "#PCSA\ttext\tPCSA\tIndicates whether the MSSA is considered a PCSA.  Possible values are Yes or No.\n",
    "#Effective Date\ttimestamp\tEffective_Date\tEffective date of the PCSA designation.\n"
   ]
  },
  {
   "cell_type": "code",
   "execution_count": 21,
   "metadata": {},
   "outputs": [
    {
     "data": {
      "text/plain": [
       "Index(['CNTY_FIPS', 'COUNTY', 'POPDENSITY', 'AREA_SQMI', 'POP', 'PCSA',\n",
       "       'PCSA_SCORE', 'PC_PHYS', 'PC_PHYS_R_CIV', 'POVScore', 'PHYSRatioScore'],\n",
       "      dtype='object')"
      ]
     },
     "execution_count": 21,
     "metadata": {},
     "output_type": "execute_result"
    }
   ],
   "source": [
    "PCSA_df.columns"
   ]
  },
  {
   "cell_type": "code",
   "execution_count": 22,
   "metadata": {},
   "outputs": [
    {
     "ename": "SyntaxError",
     "evalue": "EOL while scanning string literal (<ipython-input-22-f537448d8106>, line 1)",
     "output_type": "error",
     "traceback": [
      "\u001b[1;36m  File \u001b[1;32m\"<ipython-input-22-f537448d8106>\"\u001b[1;36m, line \u001b[1;32m1\u001b[0m\n\u001b[1;33m    PCSA_df.drop(columns=\"['OBJECTID','MSSA_ID','CNTY_FIPS','DEFINITION','MSSA_NAME','MSSA_ID','Shape__Area','UNIT_COUNT',\u001b[0m\n\u001b[1;37m                                                                                                                          ^\u001b[0m\n\u001b[1;31mSyntaxError\u001b[0m\u001b[1;31m:\u001b[0m EOL while scanning string literal\n"
     ]
    }
   ],
   "source": [
    "PCSA_df.drop(columns=['OBJECTID','MSSA_ID','CNTY_FIPS','DEFINITION','MSSA_NAME','MSSA_ID','Shape__Area','UNIT_COUNT',\n",
    "'Shape__Length','AREA_SQMI', 'POP', 'PCSA', 'PCSA_SCORE','PC_PHYS', 'PC_PHYS_R_CIV', 'POVScore', 'PHYSRatioScore']), inplace=True)\n",
    "PCSA_df.head()"
   ]
  },
  {
   "cell_type": "code",
   "execution_count": null,
   "metadata": {},
   "outputs": [],
   "source": [
    "PCSA_df.dropna(inplace=True)"
   ]
  },
  {
   "cell_type": "code",
   "execution_count": null,
   "metadata": {},
   "outputs": [],
   "source": [
    "PCSA_df = PCSA_df.groupby('CNTY_FIPS').agg({'UNIT_COUNT':'sum', 'POPDENSITY':'median', 'AREA_SQMI':'sum', 'POP':'sum', \n",
    "                                            'PCSA':'sum', 'PCSA_SCORE':'median', 'PC_PHYS':'sum', 'PC_PHYS_R_CIV':'median', \n",
    "                                            'POVScore':'median', 'PHYSRatioScore':'median'})\n",
    "PCSA_df.head(10)"
   ]
  },
  {
   "cell_type": "code",
   "execution_count": null,
   "metadata": {},
   "outputs": [],
   "source": []
  },
  {
   "cell_type": "code",
   "execution_count": null,
   "metadata": {},
   "outputs": [],
   "source": []
  }
 ],
 "metadata": {
  "kernelspec": {
   "display_name": "Python 3",
   "language": "python",
   "name": "python3"
  },
  "language_info": {
   "codemirror_mode": {
    "name": "ipython",
    "version": 3
   },
   "file_extension": ".py",
   "mimetype": "text/x-python",
   "name": "python",
   "nbconvert_exporter": "python",
   "pygments_lexer": "ipython3",
   "version": "3.8.5"
  }
 },
 "nbformat": 4,
 "nbformat_minor": 4
}
